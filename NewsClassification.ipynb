{
  "nbformat": 4,
  "nbformat_minor": 0,
  "metadata": {
    "colab": {
      "name": "NewsClassification.ipynb",
      "provenance": [],
      "include_colab_link": true
    },
    "kernelspec": {
      "name": "python3",
      "display_name": "Python 3"
    }
  },
  "cells": [
    {
      "cell_type": "markdown",
      "metadata": {
        "id": "view-in-github",
        "colab_type": "text"
      },
      "source": [
        "<a href=\"https://colab.research.google.com/github/zoya-sanjeev/News-Classification/blob/master/NewsClassification.ipynb\" target=\"_parent\"><img src=\"https://colab.research.google.com/assets/colab-badge.svg\" alt=\"Open In Colab\"/></a>"
      ]
    },
    {
      "cell_type": "markdown",
      "metadata": {
        "id": "A-dPznKxtpnN",
        "colab_type": "text"
      },
      "source": [
        "IMPORT LIBRARIES:\n"
      ]
    },
    {
      "cell_type": "code",
      "metadata": {
        "id": "sRtqH8Rutt8r",
        "colab_type": "code",
        "colab": {}
      },
      "source": [
        "import numpy as np\n",
        "import pandas as pd\n",
        "import tensorflow as tf\n",
        "\n",
        "from sklearn.preprocessing import LabelBinarizer, LabelEncoder\n",
        "from sklearn.metrics import confusion_matrix\n",
        "from sklearn.model_selection import train_test_split\n",
        "\n",
        "from tensorflow import keras\n",
        "layers = keras.layers\n",
        "models = keras.models"
      ],
      "execution_count": 0,
      "outputs": []
    },
    {
      "cell_type": "markdown",
      "metadata": {
        "id": "Od9-p8HtraMK",
        "colab_type": "text"
      },
      "source": [
        "LOAD DATASET"
      ]
    },
    {
      "cell_type": "code",
      "metadata": {
        "id": "dSRAZIN15W2O",
        "colab_type": "code",
        "outputId": "43f8cf12-2aa9-4765-f40e-834aff772988",
        "colab": {
          "base_uri": "https://localhost:8080/",
          "height": 202
        }
      },
      "source": [
        "data=pd.read_csv('bbc-text.csv')\n",
        "data.head()\n"
      ],
      "execution_count": 2,
      "outputs": [
        {
          "output_type": "execute_result",
          "data": {
            "text/html": [
              "<div>\n",
              "<style scoped>\n",
              "    .dataframe tbody tr th:only-of-type {\n",
              "        vertical-align: middle;\n",
              "    }\n",
              "\n",
              "    .dataframe tbody tr th {\n",
              "        vertical-align: top;\n",
              "    }\n",
              "\n",
              "    .dataframe thead th {\n",
              "        text-align: right;\n",
              "    }\n",
              "</style>\n",
              "<table border=\"1\" class=\"dataframe\">\n",
              "  <thead>\n",
              "    <tr style=\"text-align: right;\">\n",
              "      <th></th>\n",
              "      <th>category</th>\n",
              "      <th>text</th>\n",
              "    </tr>\n",
              "  </thead>\n",
              "  <tbody>\n",
              "    <tr>\n",
              "      <th>0</th>\n",
              "      <td>tech</td>\n",
              "      <td>tv future in the hands of viewers with home th...</td>\n",
              "    </tr>\n",
              "    <tr>\n",
              "      <th>1</th>\n",
              "      <td>business</td>\n",
              "      <td>worldcom boss  left books alone  former worldc...</td>\n",
              "    </tr>\n",
              "    <tr>\n",
              "      <th>2</th>\n",
              "      <td>sport</td>\n",
              "      <td>tigers wary of farrell  gamble  leicester say ...</td>\n",
              "    </tr>\n",
              "    <tr>\n",
              "      <th>3</th>\n",
              "      <td>sport</td>\n",
              "      <td>yeading face newcastle in fa cup premiership s...</td>\n",
              "    </tr>\n",
              "    <tr>\n",
              "      <th>4</th>\n",
              "      <td>entertainment</td>\n",
              "      <td>ocean s twelve raids box office ocean s twelve...</td>\n",
              "    </tr>\n",
              "  </tbody>\n",
              "</table>\n",
              "</div>"
            ],
            "text/plain": [
              "        category                                               text\n",
              "0           tech  tv future in the hands of viewers with home th...\n",
              "1       business  worldcom boss  left books alone  former worldc...\n",
              "2          sport  tigers wary of farrell  gamble  leicester say ...\n",
              "3          sport  yeading face newcastle in fa cup premiership s...\n",
              "4  entertainment  ocean s twelve raids box office ocean s twelve..."
            ]
          },
          "metadata": {
            "tags": []
          },
          "execution_count": 2
        }
      ]
    },
    {
      "cell_type": "markdown",
      "metadata": {
        "id": "U2I7tYW79f3N",
        "colab_type": "text"
      },
      "source": [
        "SPLITTING THE DATASET"
      ]
    },
    {
      "cell_type": "code",
      "metadata": {
        "id": "seVpiYq77R3w",
        "colab_type": "code",
        "colab": {}
      },
      "source": [
        "x=data['text']\n",
        "y=data['category']\n",
        "x_train_text,x_test_text,y_train_cat,y_test_cat=train_test_split(x,y,test_size=0.2)\n",
        "train_size = int(len(data) * .8)\n"
      ],
      "execution_count": 0,
      "outputs": []
    },
    {
      "cell_type": "markdown",
      "metadata": {
        "id": "V_I0vIj4rfUQ",
        "colab_type": "text"
      },
      "source": [
        "DATA PREPARATION"
      ]
    },
    {
      "cell_type": "code",
      "metadata": {
        "id": "4gNX-df2_MPb",
        "colab_type": "code",
        "colab": {}
      },
      "source": [
        "max_words=1000\n",
        "tokenize = keras.preprocessing.text.Tokenizer(num_words=max_words, \n",
        "                                              char_level=False)\n",
        "tokenize.fit_on_texts(x_train_text)\n",
        "x_train = tokenize.texts_to_matrix(x_train_text)\n",
        "x_test = tokenize.texts_to_matrix(x_test_text)\n"
      ],
      "execution_count": 0,
      "outputs": []
    },
    {
      "cell_type": "code",
      "metadata": {
        "id": "sWZ-zyMuT-2e",
        "colab_type": "code",
        "colab": {}
      },
      "source": [
        "encoder = LabelEncoder()\n",
        "encoder.fit(y_train_cat)\n",
        "y_train = encoder.transform(y_train_cat)\n",
        "y_test = encoder.transform(y_test_cat)\n"
      ],
      "execution_count": 0,
      "outputs": []
    },
    {
      "cell_type": "code",
      "metadata": {
        "id": "ZPmuNWpcUem8",
        "colab_type": "code",
        "colab": {}
      },
      "source": [
        "#one hot encoding\n",
        "num_classes = np.max(y_train) + 1\n",
        "y_train = keras.utils.to_categorical(y_train, num_classes)\n",
        "y_test = keras.utils.to_categorical(y_test, num_classes)"
      ],
      "execution_count": 0,
      "outputs": []
    },
    {
      "cell_type": "code",
      "metadata": {
        "id": "kjnnNimAVEiO",
        "colab_type": "code",
        "outputId": "0ada733a-1147-4441-966a-d2ef225ec814",
        "colab": {
          "base_uri": "https://localhost:8080/",
          "height": 87
        }
      },
      "source": [
        "#optional\n",
        "print('x_train shape:', x_train.shape)\n",
        "print('x_test shape:', x_test.shape)\n",
        "print('y_train shape:', y_train.shape)\n",
        "print('y_test shape:', y_test.shape)"
      ],
      "execution_count": 11,
      "outputs": [
        {
          "output_type": "stream",
          "text": [
            "x_train shape: (1780, 1000)\n",
            "x_test shape: (445, 1000)\n",
            "y_train shape: (1780, 5)\n",
            "y_test shape: (445, 5)\n"
          ],
          "name": "stdout"
        }
      ]
    },
    {
      "cell_type": "markdown",
      "metadata": {
        "id": "IDSbHikJrlFx",
        "colab_type": "text"
      },
      "source": [
        "MODEL"
      ]
    },
    {
      "cell_type": "code",
      "metadata": {
        "id": "N7x8czs0VOmg",
        "colab_type": "code",
        "outputId": "f177ce68-4506-449c-9676-d3d99bb80a25",
        "colab": {
          "base_uri": "https://localhost:8080/",
          "height": 141
        }
      },
      "source": [
        "batch_size = 16\n",
        "epochs = 3\n",
        "drop_ratio = 0.5\n",
        "\n",
        "model = models.Sequential()\n",
        "model.add(layers.Dense(512, input_shape=(max_words,)))\n",
        "model.add(layers.Activation('relu'))\n",
        "# model.add(layers.Dropout(drop_ratio))\n",
        "model.add(layers.Dense(num_classes))\n",
        "model.add(layers.Activation('softmax'))\n",
        "\n",
        "model.compile(loss='categorical_crossentropy',\n",
        "              optimizer='adam',\n",
        "              metrics=['accuracy'])\n",
        "history = model.fit(x_train, y_train,\n",
        "                    batch_size=batch_size,\n",
        "                    epochs=epochs,\n",
        "                    verbose=1,\n",
        "                    validation_split=0.1)\n"
      ],
      "execution_count": 12,
      "outputs": [
        {
          "output_type": "stream",
          "text": [
            "Epoch 1/3\n",
            "101/101 [==============================] - 1s 7ms/step - loss: 0.3616 - accuracy: 0.8945 - val_loss: 0.1907 - val_accuracy: 0.9438\n",
            "Epoch 2/3\n",
            "101/101 [==============================] - 1s 6ms/step - loss: 0.0317 - accuracy: 0.9963 - val_loss: 0.1472 - val_accuracy: 0.9494\n",
            "Epoch 3/3\n",
            "101/101 [==============================] - 1s 6ms/step - loss: 0.0078 - accuracy: 1.0000 - val_loss: 0.1389 - val_accuracy: 0.9326\n"
          ],
          "name": "stdout"
        }
      ]
    },
    {
      "cell_type": "markdown",
      "metadata": {
        "id": "7ggamcynrnJA",
        "colab_type": "text"
      },
      "source": [
        "EVALUATING THE MODEL"
      ]
    },
    {
      "cell_type": "code",
      "metadata": {
        "id": "JW4sN-nPhg4u",
        "colab_type": "code",
        "outputId": "f0afcafb-4042-432d-80a7-3bda644b373c",
        "colab": {
          "base_uri": "https://localhost:8080/",
          "height": 69
        }
      },
      "source": [
        "score = model.evaluate(x_test, y_test,\n",
        "                       batch_size=batch_size, verbose=1)\n",
        "print('Test loss:', score[0])\n",
        "print('Test accuracy:', score[1])"
      ],
      "execution_count": 13,
      "outputs": [
        {
          "output_type": "stream",
          "text": [
            "28/28 [==============================] - 0s 2ms/step - loss: 0.1021 - accuracy: 0.9685\n",
            "Test loss: 0.10214938968420029\n",
            "Test accuracy: 0.968539297580719\n"
          ],
          "name": "stdout"
        }
      ]
    },
    {
      "cell_type": "markdown",
      "metadata": {
        "id": "5oeRDQ7Prpue",
        "colab_type": "text"
      },
      "source": [
        "TESTING THE MODEL"
      ]
    },
    {
      "cell_type": "code",
      "metadata": {
        "id": "gVSuWpaOjADQ",
        "colab_type": "code",
        "outputId": "ff79a7c0-863c-4e53-8928-e06eb0844c14",
        "colab": {
          "base_uri": "https://localhost:8080/",
          "height": 711
        }
      },
      "source": [
        "text_labels = encoder.classes_ \n",
        "\n",
        "for i in range(10):\n",
        "    prediction = model.predict(np.array([x_test[i]]))\n",
        "    predicted_label = text_labels[np.argmax(prediction)]\n",
        "    print(x_test_text.iloc[i][:50], \"...\")\n",
        "    print('Actual label:' + y_test_cat.iloc[i])\n",
        "    print(\"Predicted label: \" + predicted_label + \"\\n\")  \n",
        "\n"
      ],
      "execution_count": 14,
      "outputs": [
        {
          "output_type": "stream",
          "text": [
            "mcclaren hails boro s uefa spirit middlesbrough bo ...\n",
            "Actual label:sport\n",
            "Predicted label: sport\n",
            "\n",
            "newry to fight cup exit in courts newry city are e ...\n",
            "Actual label:sport\n",
            "Predicted label: sport\n",
            "\n",
            "deutsche attacks yukos case german investment bank ...\n",
            "Actual label:business\n",
            "Predicted label: business\n",
            "\n",
            "rapper films music video in jail a us rapper await ...\n",
            "Actual label:entertainment\n",
            "Predicted label: entertainment\n",
            "\n",
            "uk youth  interested  in politics the majority of  ...\n",
            "Actual label:politics\n",
            "Predicted label: politics\n",
            "\n",
            "bortolami predicts dour contest italy skipper marc ...\n",
            "Actual label:sport\n",
            "Predicted label: sport\n",
            "\n",
            "us bank in $515m sec settlement five bank of ameri ...\n",
            "Actual label:business\n",
            "Predicted label: business\n",
            "\n",
            "collins named uk athletics chief uk athletics has  ...\n",
            "Actual label:sport\n",
            "Predicted label: sport\n",
            "\n",
            "nasdaq planning $100m-share sale the owner of the  ...\n",
            "Actual label:business\n",
            "Predicted label: business\n",
            "\n",
            "assembly ballot papers  missing  hundreds of ballo ...\n",
            "Actual label:politics\n",
            "Predicted label: politics\n",
            "\n"
          ],
          "name": "stdout"
        }
      ]
    }
  ]
}